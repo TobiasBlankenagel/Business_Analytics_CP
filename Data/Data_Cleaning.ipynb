{
  "nbformat": 4,
  "nbformat_minor": 0,
  "metadata": {
    "colab": {
      "provenance": []
    },
    "kernelspec": {
      "name": "python3",
      "display_name": "Python 3"
    },
    "language_info": {
      "name": "python"
    }
  },
  "cells": [
    {
      "cell_type": "markdown",
      "source": [
        "# **Data Cleaning**"
      ],
      "metadata": {
        "id": "eb6h4OmjkOiz"
      }
    },
    {
      "cell_type": "code",
      "source": [
        "from google.colab import drive\n",
        "drive.mount('/content/drive')"
      ],
      "metadata": {
        "colab": {
          "base_uri": "https://localhost:8080/"
        },
        "id": "gsLjbuk8kM2w",
        "outputId": "25ef6578-45d1-4bda-d6b1-bd1de425fa94"
      },
      "execution_count": 1,
      "outputs": [
        {
          "output_type": "stream",
          "name": "stdout",
          "text": [
            "Drive already mounted at /content/drive; to attempt to forcibly remount, call drive.mount(\"/content/drive\", force_remount=True).\n"
          ]
        }
      ]
    },
    {
      "cell_type": "code",
      "source": [
        "#Import necessary Libraries\n",
        "import pandas as pd\n",
        "import numpy as np"
      ],
      "metadata": {
        "id": "zKHKI-s1k0o7"
      },
      "execution_count": 2,
      "outputs": []
    },
    {
      "cell_type": "code",
      "source": [
        "path = \"drive/MyDrive/Colab Notebooks/\""
      ],
      "metadata": {
        "id": "4oHFFRx4khcw"
      },
      "execution_count": 3,
      "outputs": []
    },
    {
      "cell_type": "code",
      "source": [
        "#Raw data received from Web Scraping\n",
        "RawData = pd.read_csv(path + \"transfermarkt_data_with_competitions_and_weather_complete.csv\")"
      ],
      "metadata": {
        "id": "7EJFBihGrdzH"
      },
      "execution_count": 4,
      "outputs": []
    },
    {
      "cell_type": "code",
      "source": [
        "RawData.head()"
      ],
      "metadata": {
        "colab": {
          "base_uri": "https://localhost:8080/",
          "height": 204
        },
        "id": "-72Tk2A0jN2p",
        "outputId": "e1802328-9a40-4541-a3e5-ba4328eb531a"
      },
      "execution_count": 5,
      "outputs": [
        {
          "output_type": "execute_result",
          "data": {
            "text/plain": [
              "    Competition Matchday         Date     Time  Home Team Ranking Home Team  \\\n",
              "0  Super League        1  Sun 7/21/19  4:00 PM  FC Zürich              (7.)   \n",
              "1  Super League        2  Sun 7/28/19  4:00 PM  FC Luzern              (3.)   \n",
              "2  Super League        3   Sat 8/3/19  7:00 PM    FC Sion              (9.)   \n",
              "3  Super League        4  Sun 8/11/19  4:00 PM  FC Zürich             (10.)   \n",
              "4  Super League        6  Wed 8/14/19  7:00 PM  FC Zürich             (10.)   \n",
              "\n",
              "         Away Team Ranking Away Team Attendance Result                Weather  \\\n",
              "0        FC Lugano              (5.)      9.430    0:4  Clear or mostly clear   \n",
              "1        FC Zürich             (10.)      9.917    0:0                  Rainy   \n",
              "2        FC Zürich             (10.)      9.800    3:1          Partly cloudy   \n",
              "3  Neuchâtel Xamax              (9.)      9.619    2:2          Partly cloudy   \n",
              "4    FC St. Gallen              (5.)      9.112    2:1  Clear or mostly clear   \n",
              "\n",
              "   Temperature (°C)  \n",
              "0              26.8  \n",
              "1              17.7  \n",
              "2              23.0  \n",
              "3              26.6  \n",
              "4              20.4  "
            ],
            "text/html": [
              "\n",
              "  <div id=\"df-0999654f-64b9-4f53-94e7-e43ac2211599\" class=\"colab-df-container\">\n",
              "    <div>\n",
              "<style scoped>\n",
              "    .dataframe tbody tr th:only-of-type {\n",
              "        vertical-align: middle;\n",
              "    }\n",
              "\n",
              "    .dataframe tbody tr th {\n",
              "        vertical-align: top;\n",
              "    }\n",
              "\n",
              "    .dataframe thead th {\n",
              "        text-align: right;\n",
              "    }\n",
              "</style>\n",
              "<table border=\"1\" class=\"dataframe\">\n",
              "  <thead>\n",
              "    <tr style=\"text-align: right;\">\n",
              "      <th></th>\n",
              "      <th>Competition</th>\n",
              "      <th>Matchday</th>\n",
              "      <th>Date</th>\n",
              "      <th>Time</th>\n",
              "      <th>Home Team</th>\n",
              "      <th>Ranking Home Team</th>\n",
              "      <th>Away Team</th>\n",
              "      <th>Ranking Away Team</th>\n",
              "      <th>Attendance</th>\n",
              "      <th>Result</th>\n",
              "      <th>Weather</th>\n",
              "      <th>Temperature (°C)</th>\n",
              "    </tr>\n",
              "  </thead>\n",
              "  <tbody>\n",
              "    <tr>\n",
              "      <th>0</th>\n",
              "      <td>Super League</td>\n",
              "      <td>1</td>\n",
              "      <td>Sun 7/21/19</td>\n",
              "      <td>4:00 PM</td>\n",
              "      <td>FC Zürich</td>\n",
              "      <td>(7.)</td>\n",
              "      <td>FC Lugano</td>\n",
              "      <td>(5.)</td>\n",
              "      <td>9.430</td>\n",
              "      <td>0:4</td>\n",
              "      <td>Clear or mostly clear</td>\n",
              "      <td>26.8</td>\n",
              "    </tr>\n",
              "    <tr>\n",
              "      <th>1</th>\n",
              "      <td>Super League</td>\n",
              "      <td>2</td>\n",
              "      <td>Sun 7/28/19</td>\n",
              "      <td>4:00 PM</td>\n",
              "      <td>FC Luzern</td>\n",
              "      <td>(3.)</td>\n",
              "      <td>FC Zürich</td>\n",
              "      <td>(10.)</td>\n",
              "      <td>9.917</td>\n",
              "      <td>0:0</td>\n",
              "      <td>Rainy</td>\n",
              "      <td>17.7</td>\n",
              "    </tr>\n",
              "    <tr>\n",
              "      <th>2</th>\n",
              "      <td>Super League</td>\n",
              "      <td>3</td>\n",
              "      <td>Sat 8/3/19</td>\n",
              "      <td>7:00 PM</td>\n",
              "      <td>FC Sion</td>\n",
              "      <td>(9.)</td>\n",
              "      <td>FC Zürich</td>\n",
              "      <td>(10.)</td>\n",
              "      <td>9.800</td>\n",
              "      <td>3:1</td>\n",
              "      <td>Partly cloudy</td>\n",
              "      <td>23.0</td>\n",
              "    </tr>\n",
              "    <tr>\n",
              "      <th>3</th>\n",
              "      <td>Super League</td>\n",
              "      <td>4</td>\n",
              "      <td>Sun 8/11/19</td>\n",
              "      <td>4:00 PM</td>\n",
              "      <td>FC Zürich</td>\n",
              "      <td>(10.)</td>\n",
              "      <td>Neuchâtel Xamax</td>\n",
              "      <td>(9.)</td>\n",
              "      <td>9.619</td>\n",
              "      <td>2:2</td>\n",
              "      <td>Partly cloudy</td>\n",
              "      <td>26.6</td>\n",
              "    </tr>\n",
              "    <tr>\n",
              "      <th>4</th>\n",
              "      <td>Super League</td>\n",
              "      <td>6</td>\n",
              "      <td>Wed 8/14/19</td>\n",
              "      <td>7:00 PM</td>\n",
              "      <td>FC Zürich</td>\n",
              "      <td>(10.)</td>\n",
              "      <td>FC St. Gallen</td>\n",
              "      <td>(5.)</td>\n",
              "      <td>9.112</td>\n",
              "      <td>2:1</td>\n",
              "      <td>Clear or mostly clear</td>\n",
              "      <td>20.4</td>\n",
              "    </tr>\n",
              "  </tbody>\n",
              "</table>\n",
              "</div>\n",
              "    <div class=\"colab-df-buttons\">\n",
              "\n",
              "  <div class=\"colab-df-container\">\n",
              "    <button class=\"colab-df-convert\" onclick=\"convertToInteractive('df-0999654f-64b9-4f53-94e7-e43ac2211599')\"\n",
              "            title=\"Convert this dataframe to an interactive table.\"\n",
              "            style=\"display:none;\">\n",
              "\n",
              "  <svg xmlns=\"http://www.w3.org/2000/svg\" height=\"24px\" viewBox=\"0 -960 960 960\">\n",
              "    <path d=\"M120-120v-720h720v720H120Zm60-500h600v-160H180v160Zm220 220h160v-160H400v160Zm0 220h160v-160H400v160ZM180-400h160v-160H180v160Zm440 0h160v-160H620v160ZM180-180h160v-160H180v160Zm440 0h160v-160H620v160Z\"/>\n",
              "  </svg>\n",
              "    </button>\n",
              "\n",
              "  <style>\n",
              "    .colab-df-container {\n",
              "      display:flex;\n",
              "      gap: 12px;\n",
              "    }\n",
              "\n",
              "    .colab-df-convert {\n",
              "      background-color: #E8F0FE;\n",
              "      border: none;\n",
              "      border-radius: 50%;\n",
              "      cursor: pointer;\n",
              "      display: none;\n",
              "      fill: #1967D2;\n",
              "      height: 32px;\n",
              "      padding: 0 0 0 0;\n",
              "      width: 32px;\n",
              "    }\n",
              "\n",
              "    .colab-df-convert:hover {\n",
              "      background-color: #E2EBFA;\n",
              "      box-shadow: 0px 1px 2px rgba(60, 64, 67, 0.3), 0px 1px 3px 1px rgba(60, 64, 67, 0.15);\n",
              "      fill: #174EA6;\n",
              "    }\n",
              "\n",
              "    .colab-df-buttons div {\n",
              "      margin-bottom: 4px;\n",
              "    }\n",
              "\n",
              "    [theme=dark] .colab-df-convert {\n",
              "      background-color: #3B4455;\n",
              "      fill: #D2E3FC;\n",
              "    }\n",
              "\n",
              "    [theme=dark] .colab-df-convert:hover {\n",
              "      background-color: #434B5C;\n",
              "      box-shadow: 0px 1px 3px 1px rgba(0, 0, 0, 0.15);\n",
              "      filter: drop-shadow(0px 1px 2px rgba(0, 0, 0, 0.3));\n",
              "      fill: #FFFFFF;\n",
              "    }\n",
              "  </style>\n",
              "\n",
              "    <script>\n",
              "      const buttonEl =\n",
              "        document.querySelector('#df-0999654f-64b9-4f53-94e7-e43ac2211599 button.colab-df-convert');\n",
              "      buttonEl.style.display =\n",
              "        google.colab.kernel.accessAllowed ? 'block' : 'none';\n",
              "\n",
              "      async function convertToInteractive(key) {\n",
              "        const element = document.querySelector('#df-0999654f-64b9-4f53-94e7-e43ac2211599');\n",
              "        const dataTable =\n",
              "          await google.colab.kernel.invokeFunction('convertToInteractive',\n",
              "                                                    [key], {});\n",
              "        if (!dataTable) return;\n",
              "\n",
              "        const docLinkHtml = 'Like what you see? Visit the ' +\n",
              "          '<a target=\"_blank\" href=https://colab.research.google.com/notebooks/data_table.ipynb>data table notebook</a>'\n",
              "          + ' to learn more about interactive tables.';\n",
              "        element.innerHTML = '';\n",
              "        dataTable['output_type'] = 'display_data';\n",
              "        await google.colab.output.renderOutput(dataTable, element);\n",
              "        const docLink = document.createElement('div');\n",
              "        docLink.innerHTML = docLinkHtml;\n",
              "        element.appendChild(docLink);\n",
              "      }\n",
              "    </script>\n",
              "  </div>\n",
              "\n",
              "\n",
              "<div id=\"df-b9efaa7c-c0f3-4ff6-913e-4b2494fab299\">\n",
              "  <button class=\"colab-df-quickchart\" onclick=\"quickchart('df-b9efaa7c-c0f3-4ff6-913e-4b2494fab299')\"\n",
              "            title=\"Suggest charts\"\n",
              "            style=\"display:none;\">\n",
              "\n",
              "<svg xmlns=\"http://www.w3.org/2000/svg\" height=\"24px\"viewBox=\"0 0 24 24\"\n",
              "     width=\"24px\">\n",
              "    <g>\n",
              "        <path d=\"M19 3H5c-1.1 0-2 .9-2 2v14c0 1.1.9 2 2 2h14c1.1 0 2-.9 2-2V5c0-1.1-.9-2-2-2zM9 17H7v-7h2v7zm4 0h-2V7h2v10zm4 0h-2v-4h2v4z\"/>\n",
              "    </g>\n",
              "</svg>\n",
              "  </button>\n",
              "\n",
              "<style>\n",
              "  .colab-df-quickchart {\n",
              "      --bg-color: #E8F0FE;\n",
              "      --fill-color: #1967D2;\n",
              "      --hover-bg-color: #E2EBFA;\n",
              "      --hover-fill-color: #174EA6;\n",
              "      --disabled-fill-color: #AAA;\n",
              "      --disabled-bg-color: #DDD;\n",
              "  }\n",
              "\n",
              "  [theme=dark] .colab-df-quickchart {\n",
              "      --bg-color: #3B4455;\n",
              "      --fill-color: #D2E3FC;\n",
              "      --hover-bg-color: #434B5C;\n",
              "      --hover-fill-color: #FFFFFF;\n",
              "      --disabled-bg-color: #3B4455;\n",
              "      --disabled-fill-color: #666;\n",
              "  }\n",
              "\n",
              "  .colab-df-quickchart {\n",
              "    background-color: var(--bg-color);\n",
              "    border: none;\n",
              "    border-radius: 50%;\n",
              "    cursor: pointer;\n",
              "    display: none;\n",
              "    fill: var(--fill-color);\n",
              "    height: 32px;\n",
              "    padding: 0;\n",
              "    width: 32px;\n",
              "  }\n",
              "\n",
              "  .colab-df-quickchart:hover {\n",
              "    background-color: var(--hover-bg-color);\n",
              "    box-shadow: 0 1px 2px rgba(60, 64, 67, 0.3), 0 1px 3px 1px rgba(60, 64, 67, 0.15);\n",
              "    fill: var(--button-hover-fill-color);\n",
              "  }\n",
              "\n",
              "  .colab-df-quickchart-complete:disabled,\n",
              "  .colab-df-quickchart-complete:disabled:hover {\n",
              "    background-color: var(--disabled-bg-color);\n",
              "    fill: var(--disabled-fill-color);\n",
              "    box-shadow: none;\n",
              "  }\n",
              "\n",
              "  .colab-df-spinner {\n",
              "    border: 2px solid var(--fill-color);\n",
              "    border-color: transparent;\n",
              "    border-bottom-color: var(--fill-color);\n",
              "    animation:\n",
              "      spin 1s steps(1) infinite;\n",
              "  }\n",
              "\n",
              "  @keyframes spin {\n",
              "    0% {\n",
              "      border-color: transparent;\n",
              "      border-bottom-color: var(--fill-color);\n",
              "      border-left-color: var(--fill-color);\n",
              "    }\n",
              "    20% {\n",
              "      border-color: transparent;\n",
              "      border-left-color: var(--fill-color);\n",
              "      border-top-color: var(--fill-color);\n",
              "    }\n",
              "    30% {\n",
              "      border-color: transparent;\n",
              "      border-left-color: var(--fill-color);\n",
              "      border-top-color: var(--fill-color);\n",
              "      border-right-color: var(--fill-color);\n",
              "    }\n",
              "    40% {\n",
              "      border-color: transparent;\n",
              "      border-right-color: var(--fill-color);\n",
              "      border-top-color: var(--fill-color);\n",
              "    }\n",
              "    60% {\n",
              "      border-color: transparent;\n",
              "      border-right-color: var(--fill-color);\n",
              "    }\n",
              "    80% {\n",
              "      border-color: transparent;\n",
              "      border-right-color: var(--fill-color);\n",
              "      border-bottom-color: var(--fill-color);\n",
              "    }\n",
              "    90% {\n",
              "      border-color: transparent;\n",
              "      border-bottom-color: var(--fill-color);\n",
              "    }\n",
              "  }\n",
              "</style>\n",
              "\n",
              "  <script>\n",
              "    async function quickchart(key) {\n",
              "      const quickchartButtonEl =\n",
              "        document.querySelector('#' + key + ' button');\n",
              "      quickchartButtonEl.disabled = true;  // To prevent multiple clicks.\n",
              "      quickchartButtonEl.classList.add('colab-df-spinner');\n",
              "      try {\n",
              "        const charts = await google.colab.kernel.invokeFunction(\n",
              "            'suggestCharts', [key], {});\n",
              "      } catch (error) {\n",
              "        console.error('Error during call to suggestCharts:', error);\n",
              "      }\n",
              "      quickchartButtonEl.classList.remove('colab-df-spinner');\n",
              "      quickchartButtonEl.classList.add('colab-df-quickchart-complete');\n",
              "    }\n",
              "    (() => {\n",
              "      let quickchartButtonEl =\n",
              "        document.querySelector('#df-b9efaa7c-c0f3-4ff6-913e-4b2494fab299 button');\n",
              "      quickchartButtonEl.style.display =\n",
              "        google.colab.kernel.accessAllowed ? 'block' : 'none';\n",
              "    })();\n",
              "  </script>\n",
              "</div>\n",
              "\n",
              "    </div>\n",
              "  </div>\n"
            ],
            "application/vnd.google.colaboratory.intrinsic+json": {
              "type": "dataframe",
              "variable_name": "RawData",
              "summary": "{\n  \"name\": \"RawData\",\n  \"rows\": 2866,\n  \"fields\": [\n    {\n      \"column\": \"Competition\",\n      \"properties\": {\n        \"dtype\": \"category\",\n        \"num_unique_values\": 12,\n        \"samples\": [\n          \"Promotion League\",\n          \"Super League Barrage\",\n          \"Super League\"\n        ],\n        \"semantic_type\": \"\",\n        \"description\": \"\"\n      }\n    },\n    {\n      \"column\": \"Matchday\",\n      \"properties\": {\n        \"dtype\": \"category\",\n        \"num_unique_values\": 70,\n        \"samples\": [\n          \"20\",\n          \"1\",\n          \"Semi-Finals\"\n        ],\n        \"semantic_type\": \"\",\n        \"description\": \"\"\n      }\n    },\n    {\n      \"column\": \"Date\",\n      \"properties\": {\n        \"dtype\": \"object\",\n        \"num_unique_values\": 831,\n        \"samples\": [\n          \"Sat 6/20/20\",\n          \"Mon 7/27/20\",\n          \"Sun 10/17/21\"\n        ],\n        \"semantic_type\": \"\",\n        \"description\": \"\"\n      }\n    },\n    {\n      \"column\": \"Time\",\n      \"properties\": {\n        \"dtype\": \"category\",\n        \"num_unique_values\": 28,\n        \"samples\": [\n          \"4:30 PM\",\n          \"3:30 PM\",\n          \"2:15 PM\"\n        ],\n        \"semantic_type\": \"\",\n        \"description\": \"\"\n      }\n    },\n    {\n      \"column\": \"Home Team\",\n      \"properties\": {\n        \"dtype\": \"category\",\n        \"num_unique_values\": 177,\n        \"samples\": [\n          \"Qarabag FK\",\n          \"FC Aemme\",\n          \"FC Mendrisio\"\n        ],\n        \"semantic_type\": \"\",\n        \"description\": \"\"\n      }\n    },\n    {\n      \"column\": \"Ranking Home Team\",\n      \"properties\": {\n        \"dtype\": \"category\",\n        \"num_unique_values\": 14,\n        \"samples\": [\n          \"(2.)\",\n          \"(11.)\",\n          \"(7.)\"\n        ],\n        \"semantic_type\": \"\",\n        \"description\": \"\"\n      }\n    },\n    {\n      \"column\": \"Away Team\",\n      \"properties\": {\n        \"dtype\": \"category\",\n        \"num_unique_values\": 116,\n        \"samples\": [\n          \"FK TSC\",\n          \"FC Thun\",\n          \"Red Star\"\n        ],\n        \"semantic_type\": \"\",\n        \"description\": \"\"\n      }\n    },\n    {\n      \"column\": \"Ranking Away Team\",\n      \"properties\": {\n        \"dtype\": \"category\",\n        \"num_unique_values\": 15,\n        \"samples\": [\n          \"(3.)\",\n          \"(11.)\",\n          \"(5.)\"\n        ],\n        \"semantic_type\": \"\",\n        \"description\": \"\"\n      }\n    },\n    {\n      \"column\": \"Attendance\",\n      \"properties\": {\n        \"dtype\": \"category\",\n        \"num_unique_values\": 1141,\n        \"samples\": [\n          \"923\",\n          \"11.120\",\n          \"6.046\"\n        ],\n        \"semantic_type\": \"\",\n        \"description\": \"\"\n      }\n    },\n    {\n      \"column\": \"Result\",\n      \"properties\": {\n        \"dtype\": \"category\",\n        \"num_unique_values\": 76,\n        \"samples\": [\n          \"2:1\",\n          \"6:0\",\n          \"4:2\"\n        ],\n        \"semantic_type\": \"\",\n        \"description\": \"\"\n      }\n    },\n    {\n      \"column\": \"Weather\",\n      \"properties\": {\n        \"dtype\": \"category\",\n        \"num_unique_values\": 5,\n        \"samples\": [\n          \"Rainy\",\n          \"Snowy\",\n          \"Partly cloudy\"\n        ],\n        \"semantic_type\": \"\",\n        \"description\": \"\"\n      }\n    },\n    {\n      \"column\": \"Temperature (\\u00b0C)\",\n      \"properties\": {\n        \"dtype\": \"number\",\n        \"std\": 7.866627930585586,\n        \"min\": -7.2,\n        \"max\": 32.3,\n        \"num_unique_values\": 321,\n        \"samples\": [\n          16.3,\n          18.5,\n          -1.8\n        ],\n        \"semantic_type\": \"\",\n        \"description\": \"\"\n      }\n    }\n  ]\n}"
            }
          },
          "metadata": {},
          "execution_count": 5
        }
      ]
    },
    {
      "cell_type": "code",
      "source": [
        "RawData.info()"
      ],
      "metadata": {
        "colab": {
          "base_uri": "https://localhost:8080/"
        },
        "id": "IYJF8f1QongJ",
        "outputId": "e2e60210-4304-44b7-98c1-1d183acd9062"
      },
      "execution_count": 6,
      "outputs": [
        {
          "output_type": "stream",
          "name": "stdout",
          "text": [
            "<class 'pandas.core.frame.DataFrame'>\n",
            "RangeIndex: 2866 entries, 0 to 2865\n",
            "Data columns (total 12 columns):\n",
            " #   Column             Non-Null Count  Dtype  \n",
            "---  ------             --------------  -----  \n",
            " 0   Competition        2866 non-null   object \n",
            " 1   Matchday           2866 non-null   object \n",
            " 2   Date               2866 non-null   object \n",
            " 3   Time               2866 non-null   object \n",
            " 4   Home Team          2866 non-null   object \n",
            " 5   Ranking Home Team  2365 non-null   object \n",
            " 6   Away Team          2866 non-null   object \n",
            " 7   Ranking Away Team  2410 non-null   object \n",
            " 8   Attendance         2774 non-null   object \n",
            " 9   Result             2866 non-null   object \n",
            " 10  Weather            2302 non-null   object \n",
            " 11  Temperature (°C)   2302 non-null   float64\n",
            "dtypes: float64(1), object(11)\n",
            "memory usage: 268.8+ KB\n"
          ]
        }
      ]
    },
    {
      "cell_type": "markdown",
      "source": [
        "## Date Handling"
      ],
      "metadata": {
        "id": "ZOj1MZOKpBLd"
      }
    },
    {
      "cell_type": "markdown",
      "source": [
        "The date format must first be transformed. To do this, the day of the week, month and year are extracted from the date column ans displayed as separate columns:\n",
        "\n",
        "- column date (e.g. 7/21/2019)\n",
        "- column weekday (e.g. Sunday)\n",
        "- column month (e.g.7)\n",
        "- year (e.g. 2019)"
      ],
      "metadata": {
        "id": "B-lHxJb9mT-d"
      }
    },
    {
      "cell_type": "code",
      "source": [
        "RawData = RawData.rename(columns={'Date': 'old_date'})"
      ],
      "metadata": {
        "id": "EiBnUKjKoo5Z"
      },
      "execution_count": 7,
      "outputs": []
    },
    {
      "cell_type": "code",
      "source": [
        "#Change date format\n",
        "RawData['date'] = pd.to_datetime(RawData['old_date'], format='%a %m/%d/%y')\n",
        "# Changed the format to '%a %m/%d/%y' to include the weekday abbreviation\n",
        "# '%a' represents the abbreviated weekday name (e.g., Sun, Mon, Tue)\n",
        "\n",
        "# Extracting & creating new columns for date, Weekday, Month and Year from the Date column\n",
        "RawData['Date'] = RawData['date'].dt.strftime('%m-%d-%Y')\n",
        "RawData['Weekday'] = RawData['date'].dt.day_name()\n",
        "RawData['Month'] = RawData['date'].dt.month.astype('int')\n",
        "RawData['Year'] = RawData['date'].dt.year.astype('int')"
      ],
      "metadata": {
        "id": "ReKtt-cylj5Y"
      },
      "execution_count": 8,
      "outputs": []
    },
    {
      "cell_type": "markdown",
      "source": [
        "## Add Season"
      ],
      "metadata": {
        "id": "Smv0Jlh8pKjx"
      }
    },
    {
      "cell_type": "code",
      "source": [
        "#Add Season, which starts after July and ends before July the following year\n",
        "\n",
        "conditions = [\n",
        "    RawData['Year'] == 2019,\n",
        "    (RawData['Year'] == 2020) & (RawData['Month'] < 7),\n",
        "    (RawData['Year'] == 2020) & (RawData['Month'] >= 7),\n",
        "    (RawData['Year'] == 2021) & (RawData['Month'] < 7),\n",
        "    (RawData['Year'] == 2021) & (RawData['Month'] >= 7),\n",
        "    (RawData['Year'] == 2022) & (RawData['Month'] < 7),\n",
        "    (RawData['Year'] == 2022) & (RawData['Month'] >= 7),\n",
        "    (RawData['Year'] == 2023) & (RawData['Month'] < 7),\n",
        "    (RawData['Year'] == 2023) & (RawData['Month'] >= 7),\n",
        "    (RawData['Year'] == 2024) & (RawData['Month'] < 7),\n",
        "    (RawData['Year'] == 2024) & (RawData['Month'] >= 7)\n",
        "]\n",
        "\n",
        "choices = [\n",
        "    '2019/2020',\n",
        "    '2019/2020',\n",
        "    '2020/2021',\n",
        "    '2020/2021',\n",
        "    '2021/2022',\n",
        "    '2021/2022',\n",
        "    '2022/2023',\n",
        "    '2022/2023',\n",
        "    '2023/2024',\n",
        "    '2023/2024',\n",
        "    '2024/2025'\n",
        "]\n",
        "\n",
        "RawData['Season'] = np.select(conditions, choices, default=np.nan)"
      ],
      "metadata": {
        "id": "ZvpuFgWlj5dl"
      },
      "execution_count": 9,
      "outputs": []
    },
    {
      "cell_type": "markdown",
      "source": [
        "## Add Quarters"
      ],
      "metadata": {
        "id": "QCJET3kBpUuu"
      }
    },
    {
      "cell_type": "code",
      "source": [
        "#Add Quarter of the year as column, extracted from the month column\n",
        "RawData['quarter'] = np.where((RawData['Month'] >= 1) & (RawData['Month'] <= 3), 1,\n",
        "                             np.where((RawData['Month'] >= 4) & (RawData['Month'] <= 6), 2,\n",
        "                                      np.where((RawData['Month'] >= 7) & (RawData['Month'] <= 9), 3,\n",
        "                                               np.where((RawData['Month'] >= 10) & (RawData['Month'] <= 12), 4, np.nan))))"
      ],
      "metadata": {
        "id": "X1FfF7VqkKy3"
      },
      "execution_count": 10,
      "outputs": []
    },
    {
      "cell_type": "markdown",
      "source": [
        "## Time Handling"
      ],
      "metadata": {
        "id": "g2O3UuFUpd0w"
      }
    },
    {
      "cell_type": "code",
      "source": [
        "RawData['Time'] = RawData['Time'].replace(\"Unknown\", None)\n",
        "RawData['Time'] = pd.to_datetime(RawData['Time'], format='%I:%M %p').dt.hour"
      ],
      "metadata": {
        "id": "H55pzpNX8NPq"
      },
      "execution_count": 11,
      "outputs": []
    },
    {
      "cell_type": "markdown",
      "source": [
        "## Drop Covid"
      ],
      "metadata": {
        "id": "y3StwxDDqFPR"
      }
    },
    {
      "cell_type": "markdown",
      "source": [
        "Because of the Covid Pandemic and restrictions we decided to remove certain rows from our dataset. Due to the reason that during the time of Covid the Attendance was significantly influenced by Predictions, which will influence / worsen our predictions\n",
        "\n",
        " source drop of restriction: https://www.sfl-org.ch/fr/medias/communiques-officiels/article/la-saison-202122-peut-debuter-sans-restriction/\n",
        "\n",
        " source beginning of restrictions: https://en.wikipedia.org/wiki/2019%E2%80%9320_Swiss_Super_League?utm_source=chatgpt.com\n"
      ],
      "metadata": {
        "id": "g2F75tZwnuzQ"
      }
    },
    {
      "cell_type": "code",
      "source": [
        "# Months of Covid\n",
        "months_to_remove_2020 = [3, 4, 5, 6, 7, 8, 9, 10, 11, 12]\n",
        "months_to_remove_2021 = [1, 2, 3, 4, 5]\n",
        "\n",
        "# Remove rows for the period from March 2020 to May 2021\n",
        "RawData = RawData[~(((RawData[\"Year\"] == 2020) & (RawData[\"Month\"].isin(months_to_remove_2020))) |\n",
        "          ((RawData[\"Year\"] == 2021) & (RawData[\"Month\"].isin(months_to_remove_2021))))]"
      ],
      "metadata": {
        "id": "AFe1Zm4KqRAn"
      },
      "execution_count": 12,
      "outputs": []
    },
    {
      "cell_type": "markdown",
      "source": [
        "## Adding Stadium and Location Informations"
      ],
      "metadata": {
        "id": "5i0La2-ZszlZ"
      }
    },
    {
      "cell_type": "code",
      "source": [
        "# Define a dictionary containing stadium information for each team\n",
        "stadium_info = {\n",
        "    'FC Zürich': ['Letzigrund', 26104, 'Zürich', 'ZH', 1],\n",
        "    'Grasshoppers': ['Letzigrund', 26104, 'Zürich', 'ZH', 1],\n",
        "    'FC Lugano': ['Cornaredo Stadium', 6330, 'Lugano', 'TI', 0],\n",
        "    'FC Luzern': ['Swissporarena', 16800, 'Lucerne', 'LU', 1],\n",
        "    'FC Sion': ['Stade Tourbillon', 16232, 'Sion', 'VS', 1],\n",
        "    'Servette FC': ['Stade de Genève', 30084, 'Lancy', 'GE', 1],\n",
        "    'BSC Young Boys': ['Wankdorf Stadium', 31783, 'Berne', 'BE', 1],\n",
        "    'FC St. Gallen': ['kybunpark', 20029, 'St. Gallen', 'SG', 1],\n",
        "    'FC Basel': ['St. Jakob-Park', 38512, 'Basel', 'BS', 1],\n",
        "    'FC Winterthur': ['Stadion Schützenwiese', 8550, 'Winterthur', 'ZH', 0],\n",
        "    'Lausanne-Sport': ['Stade de la Tuilière', 12544, 'Lausanne', 'VD', 1],\n",
        "    'Yverdon Sport': ['Stade Municipal', 6600, 'Yverdon', 'VD', 0]\n",
        "}\n",
        "\n",
        "# Iterate through the dictionary and update the DataFrame accordingly\n",
        "for team, stadium_data in stadium_info.items():\n",
        "    RawData.loc[RawData['Home Team'] == team,\n",
        "                           ['Stadium', 'Max Capacity', 'City', 'Canton', 'Full Roof']] = stadium_data\n",
        "\n"
      ],
      "metadata": {
        "id": "1mVrB5Xv6Jg_"
      },
      "execution_count": 13,
      "outputs": []
    },
    {
      "cell_type": "markdown",
      "source": [
        "## Remove Games not in Swiss Super League Stadium"
      ],
      "metadata": {
        "id": "T5IpskU86LWg"
      }
    },
    {
      "cell_type": "code",
      "source": [
        "# List of teams to keep\n",
        "teams_to_keep = [\n",
        "    'FC Zürich', 'Grasshoppers', 'FC Lugano', 'FC Luzern',\n",
        "    'FC Sion', 'Servette FC', 'BSC Young Boys',\n",
        "    'FC St. Gallen', 'FC Basel', 'FC Winterthur',\n",
        "    'Lausanne-Sport', 'Yverdon Sport'\n",
        "]\n",
        "\n",
        "# Keep only rows where the \"Home Team\" is in the list of specified teams\n",
        "RawData = RawData[RawData[\"Home Team\"].isin(teams_to_keep)]"
      ],
      "metadata": {
        "id": "yJFJGlrl6QoL"
      },
      "execution_count": 14,
      "outputs": []
    },
    {
      "cell_type": "markdown",
      "source": [
        "## Remove Games not Yet played"
      ],
      "metadata": {
        "id": "mAMt-f6C9IRN"
      }
    },
    {
      "cell_type": "code",
      "source": [
        "# Remove rows where the \"Result\" column has the value \"-:-\"\n",
        "RawData = RawData[RawData[\"Result\"] != \"-:-\"]"
      ],
      "metadata": {
        "id": "XygdswyE9LL7"
      },
      "execution_count": 15,
      "outputs": []
    },
    {
      "cell_type": "markdown",
      "source": [
        " ## Handling Stadium Attendance"
      ],
      "metadata": {
        "id": "A6CUoG2htyZO"
      }
    },
    {
      "cell_type": "code",
      "source": [
        "#transform Attendance Format (e.g. 9.444 into 9444)\n",
        "RawData['Attendance'] = RawData['Attendance'].astype(str).str.replace('.', '')"
      ],
      "metadata": {
        "id": "N72nF-18MY_Q"
      },
      "execution_count": 16,
      "outputs": []
    },
    {
      "cell_type": "code",
      "source": [
        "RawData = RawData[(RawData[\"Attendance\"] != \"x\") & (RawData[\"Attendance\"] != \"nan\")]"
      ],
      "metadata": {
        "id": "_exRavXf-k7f"
      },
      "execution_count": 17,
      "outputs": []
    },
    {
      "cell_type": "markdown",
      "source": [
        "## Add Attendance in Percentage"
      ],
      "metadata": {
        "id": "9xjq0irCvkAZ"
      }
    },
    {
      "cell_type": "code",
      "source": [
        "# Convert 'Attendance' and 'Max Capacity' columns to numeric, handling any errors\n",
        "RawData['Attendance'] = pd.to_numeric(RawData['Attendance'], errors='coerce')\n",
        "RawData['Max Capacity'] = pd.to_numeric(RawData['Max Capacity'], errors='coerce')\n",
        "\n",
        "# Remove rows with NaN values in 'Attendance' or 'Max Capacity' after conversion\n",
        "RawData.dropna(subset=['Attendance', 'Max Capacity'], inplace=True)\n",
        "\n",
        "# Calculate the 'PercentageAttendance' column\n",
        "RawData['PercentageAttendance'] = RawData['Attendance'] / RawData['Max Capacity']"
      ],
      "metadata": {
        "id": "BjxnbnvPAmIx"
      },
      "execution_count": 18,
      "outputs": []
    },
    {
      "cell_type": "code",
      "source": [
        "count = RawData[RawData['PercentageAttendance'] == 1].shape[0]\n",
        "print(f\"Number of occurrences where PercentageAttendecance is 1: {count}\")"
      ],
      "metadata": {
        "id": "lXjAdZJ6EjRx",
        "colab": {
          "base_uri": "https://localhost:8080/"
        },
        "outputId": "2a384ee7-8942-4965-8219-a53b99a4e8b9"
      },
      "execution_count": 19,
      "outputs": [
        {
          "output_type": "stream",
          "name": "stdout",
          "text": [
            "Number of occurrences where PercentageAttendecance is 1: 5\n"
          ]
        }
      ]
    },
    {
      "cell_type": "code",
      "source": [
        "count = RawData[RawData['PercentageAttendance'] > 1].shape[0]\n",
        "print(f\"Number of occurrences where PercentageAttendecance is over 1: {count}\")\n",
        "# Standing Areas: Some stadiums have areas where people can stand rather than sit, allowing them to accommodate more people than their official seating capacity.\n",
        "# Temporary Seating: During special events or high-profile games, temporary seating may be added to increase capacity."
      ],
      "metadata": {
        "colab": {
          "base_uri": "https://localhost:8080/"
        },
        "id": "u_M701UcA6eE",
        "outputId": "9b664fc3-89c3-4400-e939-a83a59835244"
      },
      "execution_count": 20,
      "outputs": [
        {
          "output_type": "stream",
          "name": "stdout",
          "text": [
            "Number of occurrences where PercentageAttendecance is over 1: 17\n"
          ]
        }
      ]
    },
    {
      "cell_type": "markdown",
      "source": [
        "### Handling Rankings"
      ],
      "metadata": {
        "id": "x2oErTT4vDaD"
      }
    },
    {
      "cell_type": "code",
      "source": [
        "RawData[\"Ranking Home Team\"] = RawData[\"Ranking Home Team\"].str.replace(r\"[().]\", \"\", regex=True).str.strip()\n",
        "RawData[\"Ranking Away Team\"] = RawData[\"Ranking Away Team\"].str.replace(r\"[().]\", \"\", regex=True).str.strip()"
      ],
      "metadata": {
        "id": "GTL5_gRUEqRr"
      },
      "execution_count": 21,
      "outputs": []
    },
    {
      "cell_type": "markdown",
      "source": [
        "## Remove Doubles"
      ],
      "metadata": {
        "id": "tNnnSFOn0JBX"
      }
    },
    {
      "cell_type": "code",
      "source": [
        "# Create a unique match identifier by including the competition, season, sorted home/away teams, and month\n",
        "RawData['Match_ID'] = RawData.apply(lambda row: f\"{row['Competition']}-{row['Season']}-{row['Month']}-{'-'.join(sorted([row['Home Team'], row['Away Team']]))}\", axis=1)\n",
        "\n",
        "# Drop duplicate games based on the generated 'Match_ID'\n",
        "RawData = RawData.drop_duplicates(subset='Match_ID')\n",
        "\n",
        "# Drop the 'Match_ID' column if it's no longer needed\n",
        "RawData = RawData.drop(columns=['Match_ID'])"
      ],
      "metadata": {
        "id": "GF6sIgjb2r_5"
      },
      "execution_count": 22,
      "outputs": []
    },
    {
      "cell_type": "markdown",
      "source": [
        "## Add Holidays"
      ],
      "metadata": {
        "id": "tdvHqAD2vWD7"
      }
    },
    {
      "cell_type": "code",
      "source": [
        "#Add holiday\n",
        "SwissHoliday = pd.read_csv(path + \"SwissHoliday.csv\")\n",
        "SwissHoliday"
      ],
      "metadata": {
        "colab": {
          "base_uri": "https://localhost:8080/",
          "height": 419
        },
        "id": "etWiSUrttk9Q",
        "outputId": "b956882e-f39e-4636-a9a1-23808a2175ad"
      },
      "execution_count": 23,
      "outputs": [
        {
          "output_type": "execute_result",
          "data": {
            "text/plain": [
              "           Date  BE  VD  TI  VS  LU  ZH  BS  SG  GE\n",
              "0    01-01-2019   1   1   1   1   1   1   1   1   1\n",
              "1    01-02-2019   1   1   0   0   0   0   0   0   0\n",
              "2    01-06-2019   0   0   1   0   0   0   0   0   0\n",
              "3    01-06-2019   0   0   0   0   0   0   0   0   0\n",
              "4    03-01-2019   0   0   0   0   0   0   0   0   0\n",
              "..          ...  ..  ..  ..  ..  ..  ..  ..  ..  ..\n",
              "175  12-08-2024   0   0   1   1   1   0   0   0   0\n",
              "176  12-08-2024   0   0   0   0   0   0   0   0   0\n",
              "177  12-25-2024   1   1   1   1   1   1   1   1   1\n",
              "178  12-26-2024   1   0   1   0   1   1   1   1   0\n",
              "179  12-26-2024   0   0   0   0   0   0   0   0   0\n",
              "\n",
              "[180 rows x 10 columns]"
            ],
            "text/html": [
              "\n",
              "  <div id=\"df-df9f1174-bd9a-4379-b2aa-988825fa8b14\" class=\"colab-df-container\">\n",
              "    <div>\n",
              "<style scoped>\n",
              "    .dataframe tbody tr th:only-of-type {\n",
              "        vertical-align: middle;\n",
              "    }\n",
              "\n",
              "    .dataframe tbody tr th {\n",
              "        vertical-align: top;\n",
              "    }\n",
              "\n",
              "    .dataframe thead th {\n",
              "        text-align: right;\n",
              "    }\n",
              "</style>\n",
              "<table border=\"1\" class=\"dataframe\">\n",
              "  <thead>\n",
              "    <tr style=\"text-align: right;\">\n",
              "      <th></th>\n",
              "      <th>Date</th>\n",
              "      <th>BE</th>\n",
              "      <th>VD</th>\n",
              "      <th>TI</th>\n",
              "      <th>VS</th>\n",
              "      <th>LU</th>\n",
              "      <th>ZH</th>\n",
              "      <th>BS</th>\n",
              "      <th>SG</th>\n",
              "      <th>GE</th>\n",
              "    </tr>\n",
              "  </thead>\n",
              "  <tbody>\n",
              "    <tr>\n",
              "      <th>0</th>\n",
              "      <td>01-01-2019</td>\n",
              "      <td>1</td>\n",
              "      <td>1</td>\n",
              "      <td>1</td>\n",
              "      <td>1</td>\n",
              "      <td>1</td>\n",
              "      <td>1</td>\n",
              "      <td>1</td>\n",
              "      <td>1</td>\n",
              "      <td>1</td>\n",
              "    </tr>\n",
              "    <tr>\n",
              "      <th>1</th>\n",
              "      <td>01-02-2019</td>\n",
              "      <td>1</td>\n",
              "      <td>1</td>\n",
              "      <td>0</td>\n",
              "      <td>0</td>\n",
              "      <td>0</td>\n",
              "      <td>0</td>\n",
              "      <td>0</td>\n",
              "      <td>0</td>\n",
              "      <td>0</td>\n",
              "    </tr>\n",
              "    <tr>\n",
              "      <th>2</th>\n",
              "      <td>01-06-2019</td>\n",
              "      <td>0</td>\n",
              "      <td>0</td>\n",
              "      <td>1</td>\n",
              "      <td>0</td>\n",
              "      <td>0</td>\n",
              "      <td>0</td>\n",
              "      <td>0</td>\n",
              "      <td>0</td>\n",
              "      <td>0</td>\n",
              "    </tr>\n",
              "    <tr>\n",
              "      <th>3</th>\n",
              "      <td>01-06-2019</td>\n",
              "      <td>0</td>\n",
              "      <td>0</td>\n",
              "      <td>0</td>\n",
              "      <td>0</td>\n",
              "      <td>0</td>\n",
              "      <td>0</td>\n",
              "      <td>0</td>\n",
              "      <td>0</td>\n",
              "      <td>0</td>\n",
              "    </tr>\n",
              "    <tr>\n",
              "      <th>4</th>\n",
              "      <td>03-01-2019</td>\n",
              "      <td>0</td>\n",
              "      <td>0</td>\n",
              "      <td>0</td>\n",
              "      <td>0</td>\n",
              "      <td>0</td>\n",
              "      <td>0</td>\n",
              "      <td>0</td>\n",
              "      <td>0</td>\n",
              "      <td>0</td>\n",
              "    </tr>\n",
              "    <tr>\n",
              "      <th>...</th>\n",
              "      <td>...</td>\n",
              "      <td>...</td>\n",
              "      <td>...</td>\n",
              "      <td>...</td>\n",
              "      <td>...</td>\n",
              "      <td>...</td>\n",
              "      <td>...</td>\n",
              "      <td>...</td>\n",
              "      <td>...</td>\n",
              "      <td>...</td>\n",
              "    </tr>\n",
              "    <tr>\n",
              "      <th>175</th>\n",
              "      <td>12-08-2024</td>\n",
              "      <td>0</td>\n",
              "      <td>0</td>\n",
              "      <td>1</td>\n",
              "      <td>1</td>\n",
              "      <td>1</td>\n",
              "      <td>0</td>\n",
              "      <td>0</td>\n",
              "      <td>0</td>\n",
              "      <td>0</td>\n",
              "    </tr>\n",
              "    <tr>\n",
              "      <th>176</th>\n",
              "      <td>12-08-2024</td>\n",
              "      <td>0</td>\n",
              "      <td>0</td>\n",
              "      <td>0</td>\n",
              "      <td>0</td>\n",
              "      <td>0</td>\n",
              "      <td>0</td>\n",
              "      <td>0</td>\n",
              "      <td>0</td>\n",
              "      <td>0</td>\n",
              "    </tr>\n",
              "    <tr>\n",
              "      <th>177</th>\n",
              "      <td>12-25-2024</td>\n",
              "      <td>1</td>\n",
              "      <td>1</td>\n",
              "      <td>1</td>\n",
              "      <td>1</td>\n",
              "      <td>1</td>\n",
              "      <td>1</td>\n",
              "      <td>1</td>\n",
              "      <td>1</td>\n",
              "      <td>1</td>\n",
              "    </tr>\n",
              "    <tr>\n",
              "      <th>178</th>\n",
              "      <td>12-26-2024</td>\n",
              "      <td>1</td>\n",
              "      <td>0</td>\n",
              "      <td>1</td>\n",
              "      <td>0</td>\n",
              "      <td>1</td>\n",
              "      <td>1</td>\n",
              "      <td>1</td>\n",
              "      <td>1</td>\n",
              "      <td>0</td>\n",
              "    </tr>\n",
              "    <tr>\n",
              "      <th>179</th>\n",
              "      <td>12-26-2024</td>\n",
              "      <td>0</td>\n",
              "      <td>0</td>\n",
              "      <td>0</td>\n",
              "      <td>0</td>\n",
              "      <td>0</td>\n",
              "      <td>0</td>\n",
              "      <td>0</td>\n",
              "      <td>0</td>\n",
              "      <td>0</td>\n",
              "    </tr>\n",
              "  </tbody>\n",
              "</table>\n",
              "<p>180 rows × 10 columns</p>\n",
              "</div>\n",
              "    <div class=\"colab-df-buttons\">\n",
              "\n",
              "  <div class=\"colab-df-container\">\n",
              "    <button class=\"colab-df-convert\" onclick=\"convertToInteractive('df-df9f1174-bd9a-4379-b2aa-988825fa8b14')\"\n",
              "            title=\"Convert this dataframe to an interactive table.\"\n",
              "            style=\"display:none;\">\n",
              "\n",
              "  <svg xmlns=\"http://www.w3.org/2000/svg\" height=\"24px\" viewBox=\"0 -960 960 960\">\n",
              "    <path d=\"M120-120v-720h720v720H120Zm60-500h600v-160H180v160Zm220 220h160v-160H400v160Zm0 220h160v-160H400v160ZM180-400h160v-160H180v160Zm440 0h160v-160H620v160ZM180-180h160v-160H180v160Zm440 0h160v-160H620v160Z\"/>\n",
              "  </svg>\n",
              "    </button>\n",
              "\n",
              "  <style>\n",
              "    .colab-df-container {\n",
              "      display:flex;\n",
              "      gap: 12px;\n",
              "    }\n",
              "\n",
              "    .colab-df-convert {\n",
              "      background-color: #E8F0FE;\n",
              "      border: none;\n",
              "      border-radius: 50%;\n",
              "      cursor: pointer;\n",
              "      display: none;\n",
              "      fill: #1967D2;\n",
              "      height: 32px;\n",
              "      padding: 0 0 0 0;\n",
              "      width: 32px;\n",
              "    }\n",
              "\n",
              "    .colab-df-convert:hover {\n",
              "      background-color: #E2EBFA;\n",
              "      box-shadow: 0px 1px 2px rgba(60, 64, 67, 0.3), 0px 1px 3px 1px rgba(60, 64, 67, 0.15);\n",
              "      fill: #174EA6;\n",
              "    }\n",
              "\n",
              "    .colab-df-buttons div {\n",
              "      margin-bottom: 4px;\n",
              "    }\n",
              "\n",
              "    [theme=dark] .colab-df-convert {\n",
              "      background-color: #3B4455;\n",
              "      fill: #D2E3FC;\n",
              "    }\n",
              "\n",
              "    [theme=dark] .colab-df-convert:hover {\n",
              "      background-color: #434B5C;\n",
              "      box-shadow: 0px 1px 3px 1px rgba(0, 0, 0, 0.15);\n",
              "      filter: drop-shadow(0px 1px 2px rgba(0, 0, 0, 0.3));\n",
              "      fill: #FFFFFF;\n",
              "    }\n",
              "  </style>\n",
              "\n",
              "    <script>\n",
              "      const buttonEl =\n",
              "        document.querySelector('#df-df9f1174-bd9a-4379-b2aa-988825fa8b14 button.colab-df-convert');\n",
              "      buttonEl.style.display =\n",
              "        google.colab.kernel.accessAllowed ? 'block' : 'none';\n",
              "\n",
              "      async function convertToInteractive(key) {\n",
              "        const element = document.querySelector('#df-df9f1174-bd9a-4379-b2aa-988825fa8b14');\n",
              "        const dataTable =\n",
              "          await google.colab.kernel.invokeFunction('convertToInteractive',\n",
              "                                                    [key], {});\n",
              "        if (!dataTable) return;\n",
              "\n",
              "        const docLinkHtml = 'Like what you see? Visit the ' +\n",
              "          '<a target=\"_blank\" href=https://colab.research.google.com/notebooks/data_table.ipynb>data table notebook</a>'\n",
              "          + ' to learn more about interactive tables.';\n",
              "        element.innerHTML = '';\n",
              "        dataTable['output_type'] = 'display_data';\n",
              "        await google.colab.output.renderOutput(dataTable, element);\n",
              "        const docLink = document.createElement('div');\n",
              "        docLink.innerHTML = docLinkHtml;\n",
              "        element.appendChild(docLink);\n",
              "      }\n",
              "    </script>\n",
              "  </div>\n",
              "\n",
              "\n",
              "<div id=\"df-2d8138fb-8ff5-473f-adfe-69bbc7d1794c\">\n",
              "  <button class=\"colab-df-quickchart\" onclick=\"quickchart('df-2d8138fb-8ff5-473f-adfe-69bbc7d1794c')\"\n",
              "            title=\"Suggest charts\"\n",
              "            style=\"display:none;\">\n",
              "\n",
              "<svg xmlns=\"http://www.w3.org/2000/svg\" height=\"24px\"viewBox=\"0 0 24 24\"\n",
              "     width=\"24px\">\n",
              "    <g>\n",
              "        <path d=\"M19 3H5c-1.1 0-2 .9-2 2v14c0 1.1.9 2 2 2h14c1.1 0 2-.9 2-2V5c0-1.1-.9-2-2-2zM9 17H7v-7h2v7zm4 0h-2V7h2v10zm4 0h-2v-4h2v4z\"/>\n",
              "    </g>\n",
              "</svg>\n",
              "  </button>\n",
              "\n",
              "<style>\n",
              "  .colab-df-quickchart {\n",
              "      --bg-color: #E8F0FE;\n",
              "      --fill-color: #1967D2;\n",
              "      --hover-bg-color: #E2EBFA;\n",
              "      --hover-fill-color: #174EA6;\n",
              "      --disabled-fill-color: #AAA;\n",
              "      --disabled-bg-color: #DDD;\n",
              "  }\n",
              "\n",
              "  [theme=dark] .colab-df-quickchart {\n",
              "      --bg-color: #3B4455;\n",
              "      --fill-color: #D2E3FC;\n",
              "      --hover-bg-color: #434B5C;\n",
              "      --hover-fill-color: #FFFFFF;\n",
              "      --disabled-bg-color: #3B4455;\n",
              "      --disabled-fill-color: #666;\n",
              "  }\n",
              "\n",
              "  .colab-df-quickchart {\n",
              "    background-color: var(--bg-color);\n",
              "    border: none;\n",
              "    border-radius: 50%;\n",
              "    cursor: pointer;\n",
              "    display: none;\n",
              "    fill: var(--fill-color);\n",
              "    height: 32px;\n",
              "    padding: 0;\n",
              "    width: 32px;\n",
              "  }\n",
              "\n",
              "  .colab-df-quickchart:hover {\n",
              "    background-color: var(--hover-bg-color);\n",
              "    box-shadow: 0 1px 2px rgba(60, 64, 67, 0.3), 0 1px 3px 1px rgba(60, 64, 67, 0.15);\n",
              "    fill: var(--button-hover-fill-color);\n",
              "  }\n",
              "\n",
              "  .colab-df-quickchart-complete:disabled,\n",
              "  .colab-df-quickchart-complete:disabled:hover {\n",
              "    background-color: var(--disabled-bg-color);\n",
              "    fill: var(--disabled-fill-color);\n",
              "    box-shadow: none;\n",
              "  }\n",
              "\n",
              "  .colab-df-spinner {\n",
              "    border: 2px solid var(--fill-color);\n",
              "    border-color: transparent;\n",
              "    border-bottom-color: var(--fill-color);\n",
              "    animation:\n",
              "      spin 1s steps(1) infinite;\n",
              "  }\n",
              "\n",
              "  @keyframes spin {\n",
              "    0% {\n",
              "      border-color: transparent;\n",
              "      border-bottom-color: var(--fill-color);\n",
              "      border-left-color: var(--fill-color);\n",
              "    }\n",
              "    20% {\n",
              "      border-color: transparent;\n",
              "      border-left-color: var(--fill-color);\n",
              "      border-top-color: var(--fill-color);\n",
              "    }\n",
              "    30% {\n",
              "      border-color: transparent;\n",
              "      border-left-color: var(--fill-color);\n",
              "      border-top-color: var(--fill-color);\n",
              "      border-right-color: var(--fill-color);\n",
              "    }\n",
              "    40% {\n",
              "      border-color: transparent;\n",
              "      border-right-color: var(--fill-color);\n",
              "      border-top-color: var(--fill-color);\n",
              "    }\n",
              "    60% {\n",
              "      border-color: transparent;\n",
              "      border-right-color: var(--fill-color);\n",
              "    }\n",
              "    80% {\n",
              "      border-color: transparent;\n",
              "      border-right-color: var(--fill-color);\n",
              "      border-bottom-color: var(--fill-color);\n",
              "    }\n",
              "    90% {\n",
              "      border-color: transparent;\n",
              "      border-bottom-color: var(--fill-color);\n",
              "    }\n",
              "  }\n",
              "</style>\n",
              "\n",
              "  <script>\n",
              "    async function quickchart(key) {\n",
              "      const quickchartButtonEl =\n",
              "        document.querySelector('#' + key + ' button');\n",
              "      quickchartButtonEl.disabled = true;  // To prevent multiple clicks.\n",
              "      quickchartButtonEl.classList.add('colab-df-spinner');\n",
              "      try {\n",
              "        const charts = await google.colab.kernel.invokeFunction(\n",
              "            'suggestCharts', [key], {});\n",
              "      } catch (error) {\n",
              "        console.error('Error during call to suggestCharts:', error);\n",
              "      }\n",
              "      quickchartButtonEl.classList.remove('colab-df-spinner');\n",
              "      quickchartButtonEl.classList.add('colab-df-quickchart-complete');\n",
              "    }\n",
              "    (() => {\n",
              "      let quickchartButtonEl =\n",
              "        document.querySelector('#df-2d8138fb-8ff5-473f-adfe-69bbc7d1794c button');\n",
              "      quickchartButtonEl.style.display =\n",
              "        google.colab.kernel.accessAllowed ? 'block' : 'none';\n",
              "    })();\n",
              "  </script>\n",
              "</div>\n",
              "\n",
              "  <div id=\"id_94fefec8-0882-4d3e-b4bb-51b5aac2ee6c\">\n",
              "    <style>\n",
              "      .colab-df-generate {\n",
              "        background-color: #E8F0FE;\n",
              "        border: none;\n",
              "        border-radius: 50%;\n",
              "        cursor: pointer;\n",
              "        display: none;\n",
              "        fill: #1967D2;\n",
              "        height: 32px;\n",
              "        padding: 0 0 0 0;\n",
              "        width: 32px;\n",
              "      }\n",
              "\n",
              "      .colab-df-generate:hover {\n",
              "        background-color: #E2EBFA;\n",
              "        box-shadow: 0px 1px 2px rgba(60, 64, 67, 0.3), 0px 1px 3px 1px rgba(60, 64, 67, 0.15);\n",
              "        fill: #174EA6;\n",
              "      }\n",
              "\n",
              "      [theme=dark] .colab-df-generate {\n",
              "        background-color: #3B4455;\n",
              "        fill: #D2E3FC;\n",
              "      }\n",
              "\n",
              "      [theme=dark] .colab-df-generate:hover {\n",
              "        background-color: #434B5C;\n",
              "        box-shadow: 0px 1px 3px 1px rgba(0, 0, 0, 0.15);\n",
              "        filter: drop-shadow(0px 1px 2px rgba(0, 0, 0, 0.3));\n",
              "        fill: #FFFFFF;\n",
              "      }\n",
              "    </style>\n",
              "    <button class=\"colab-df-generate\" onclick=\"generateWithVariable('SwissHoliday')\"\n",
              "            title=\"Generate code using this dataframe.\"\n",
              "            style=\"display:none;\">\n",
              "\n",
              "  <svg xmlns=\"http://www.w3.org/2000/svg\" height=\"24px\"viewBox=\"0 0 24 24\"\n",
              "       width=\"24px\">\n",
              "    <path d=\"M7,19H8.4L18.45,9,17,7.55,7,17.6ZM5,21V16.75L18.45,3.32a2,2,0,0,1,2.83,0l1.4,1.43a1.91,1.91,0,0,1,.58,1.4,1.91,1.91,0,0,1-.58,1.4L9.25,21ZM18.45,9,17,7.55Zm-12,3A5.31,5.31,0,0,0,4.9,8.1,5.31,5.31,0,0,0,1,6.5,5.31,5.31,0,0,0,4.9,4.9,5.31,5.31,0,0,0,6.5,1,5.31,5.31,0,0,0,8.1,4.9,5.31,5.31,0,0,0,12,6.5,5.46,5.46,0,0,0,6.5,12Z\"/>\n",
              "  </svg>\n",
              "    </button>\n",
              "    <script>\n",
              "      (() => {\n",
              "      const buttonEl =\n",
              "        document.querySelector('#id_94fefec8-0882-4d3e-b4bb-51b5aac2ee6c button.colab-df-generate');\n",
              "      buttonEl.style.display =\n",
              "        google.colab.kernel.accessAllowed ? 'block' : 'none';\n",
              "\n",
              "      buttonEl.onclick = () => {\n",
              "        google.colab.notebook.generateWithVariable('SwissHoliday');\n",
              "      }\n",
              "      })();\n",
              "    </script>\n",
              "  </div>\n",
              "\n",
              "    </div>\n",
              "  </div>\n"
            ],
            "application/vnd.google.colaboratory.intrinsic+json": {
              "type": "dataframe",
              "variable_name": "SwissHoliday",
              "summary": "{\n  \"name\": \"SwissHoliday\",\n  \"rows\": 180,\n  \"fields\": [\n    {\n      \"column\": \"Date\",\n      \"properties\": {\n        \"dtype\": \"object\",\n        \"num_unique_values\": 132,\n        \"samples\": [\n          \"06-29-2021\",\n          \"09-19-2022\",\n          \"12-08-2019\"\n        ],\n        \"semantic_type\": \"\",\n        \"description\": \"\"\n      }\n    },\n    {\n      \"column\": \"BE\",\n      \"properties\": {\n        \"dtype\": \"number\",\n        \"std\": 0,\n        \"min\": 0,\n        \"max\": 1,\n        \"num_unique_values\": 2,\n        \"samples\": [\n          0,\n          1\n        ],\n        \"semantic_type\": \"\",\n        \"description\": \"\"\n      }\n    },\n    {\n      \"column\": \"VD\",\n      \"properties\": {\n        \"dtype\": \"number\",\n        \"std\": 0,\n        \"min\": 0,\n        \"max\": 1,\n        \"num_unique_values\": 2,\n        \"samples\": [\n          0,\n          1\n        ],\n        \"semantic_type\": \"\",\n        \"description\": \"\"\n      }\n    },\n    {\n      \"column\": \"TI\",\n      \"properties\": {\n        \"dtype\": \"number\",\n        \"std\": 0,\n        \"min\": 0,\n        \"max\": 1,\n        \"num_unique_values\": 2,\n        \"samples\": [\n          0,\n          1\n        ],\n        \"semantic_type\": \"\",\n        \"description\": \"\"\n      }\n    },\n    {\n      \"column\": \"VS\",\n      \"properties\": {\n        \"dtype\": \"number\",\n        \"std\": 0,\n        \"min\": 0,\n        \"max\": 1,\n        \"num_unique_values\": 2,\n        \"samples\": [\n          0,\n          1\n        ],\n        \"semantic_type\": \"\",\n        \"description\": \"\"\n      }\n    },\n    {\n      \"column\": \"LU\",\n      \"properties\": {\n        \"dtype\": \"number\",\n        \"std\": 0,\n        \"min\": 0,\n        \"max\": 1,\n        \"num_unique_values\": 2,\n        \"samples\": [\n          0,\n          1\n        ],\n        \"semantic_type\": \"\",\n        \"description\": \"\"\n      }\n    },\n    {\n      \"column\": \"ZH\",\n      \"properties\": {\n        \"dtype\": \"number\",\n        \"std\": 0,\n        \"min\": 0,\n        \"max\": 1,\n        \"num_unique_values\": 2,\n        \"samples\": [\n          0,\n          1\n        ],\n        \"semantic_type\": \"\",\n        \"description\": \"\"\n      }\n    },\n    {\n      \"column\": \"BS\",\n      \"properties\": {\n        \"dtype\": \"number\",\n        \"std\": 0,\n        \"min\": 0,\n        \"max\": 1,\n        \"num_unique_values\": 2,\n        \"samples\": [\n          0,\n          1\n        ],\n        \"semantic_type\": \"\",\n        \"description\": \"\"\n      }\n    },\n    {\n      \"column\": \"SG\",\n      \"properties\": {\n        \"dtype\": \"number\",\n        \"std\": 0,\n        \"min\": 0,\n        \"max\": 1,\n        \"num_unique_values\": 2,\n        \"samples\": [\n          0,\n          1\n        ],\n        \"semantic_type\": \"\",\n        \"description\": \"\"\n      }\n    },\n    {\n      \"column\": \"GE\",\n      \"properties\": {\n        \"dtype\": \"number\",\n        \"std\": 0,\n        \"min\": 0,\n        \"max\": 1,\n        \"num_unique_values\": 2,\n        \"samples\": [\n          0,\n          1\n        ],\n        \"semantic_type\": \"\",\n        \"description\": \"\"\n      }\n    }\n  ]\n}"
            }
          },
          "metadata": {},
          "execution_count": 23
        }
      ]
    },
    {
      "cell_type": "code",
      "source": [
        "# Define column names\n",
        "date_col = 'Date'  # Assuming 'Date' is the name of your date column in both datasets\n",
        "canton_col = 'Canton'  # Assuming 'Canton' is the name of the canton column in RawData\n",
        "holiday_col = 'Holiday'  # Assuming 'Holiday' is the name of the new holiday column in RawData\n",
        "swiss_cantons = SwissHoliday.columns[1:] # Assuming the first column is 'Date' and the rest are canton names\n",
        "\n",
        "# Convert 'Date' columns to datetime objects if they are not already\n",
        "RawData[date_col] = pd.to_datetime(RawData[date_col])\n",
        "SwissHoliday[date_col] = pd.to_datetime(SwissHoliday[date_col])\n",
        "\n",
        "# Create the 'holiday' column in RawData and initialize it to 0\n",
        "RawData[holiday_col] = 0\n",
        "\n",
        "# Iterate through RawData and check for matches in SwissHoliday\n",
        "for index, row in RawData.iterrows():\n",
        "    # Get the canton for this row\n",
        "    canton = row[canton_col]\n",
        "\n",
        "    # Check if this canton is in SwissHoliday columns\n",
        "    if canton in swiss_cantons:\n",
        "        # Check if the date is a holiday for this canton\n",
        "        if SwissHoliday[(SwissHoliday[date_col] == row[date_col]) & (SwissHoliday[canton] == 1)].shape[0] > 0:\n",
        "            RawData.loc[index, holiday_col] = 1"
      ],
      "metadata": {
        "id": "Nopj3Qdwtowj"
      },
      "execution_count": 24,
      "outputs": []
    },
    {
      "cell_type": "code",
      "source": [
        "holiday_count = RawData['Holiday'].sum()\n",
        "print(f\"Total number of holidays: {holiday_count}\")"
      ],
      "metadata": {
        "colab": {
          "base_uri": "https://localhost:8080/"
        },
        "id": "RQT6luRW8WTd",
        "outputId": "bde5e4d4-6d4e-40e1-fd94-b55e4830ec23"
      },
      "execution_count": 25,
      "outputs": [
        {
          "output_type": "stream",
          "name": "stdout",
          "text": [
            "Total number of holidays: 23\n"
          ]
        }
      ]
    },
    {
      "cell_type": "markdown",
      "source": [
        "## Add Quartely GDP --> but lagged for Q3 in Stadium Added use Q2 in SwissGdp"
      ],
      "metadata": {
        "id": "0YLUTrOQwfpI"
      }
    },
    {
      "cell_type": "code",
      "source": [
        "#Import Swiss GDPs\n",
        "SwissGDPS = pd.read_csv(path + \"SwissGDP.csv\")\n",
        "\n",
        "new_gdp_data = [0.0360, 0.2793, 0.3926, 0.1423, 0.2062, 0.0708, 0.1486, 1.5024, 0.1414, 2024, 3]\n",
        "SwissGDPS.loc[len(SwissGDPS)] = new_gdp_data\n",
        "\n",
        "canton_cols = [col for col in SwissGDPS.columns if col not in ['Year', 'quarter']]  # Exclude 'Year' and 'quarter'\n",
        "new_canton_cols = {col: f'Canton_{col}' for col in canton_cols}\n",
        "SwissGDPS = SwissGDPS.rename(columns=new_canton_cols)"
      ],
      "metadata": {
        "id": "y_ipE1bocE26"
      },
      "execution_count": 26,
      "outputs": []
    },
    {
      "cell_type": "code",
      "source": [
        "import pandas as pd\n",
        "\n",
        "# Create dummy variables for cantons\n",
        "canton_dummies = pd.get_dummies(RawData['Canton'], prefix='Canton')\n",
        "\n",
        "# Concatenate the dummy variables with the original DataFrame\n",
        "RawData = pd.concat([RawData, canton_dummies], axis=1)\n",
        "\n"
      ],
      "metadata": {
        "id": "Bsh4SI0qc2Ve"
      },
      "execution_count": 27,
      "outputs": []
    },
    {
      "cell_type": "code",
      "source": [
        "import pandas as pd\n",
        "\n",
        "# Ensure 'Year' and 'quarter' are integers for proper comparison\n",
        "RawData['Year'] = RawData['Year'].astype(int)\n",
        "RawData['quarter'] = RawData['quarter'].astype(int)\n",
        "# ... (Your existing code to load and process RawData and SwissGDPS) ...\n",
        "\n",
        "# Ensure 'Year' and 'quarter' are integers for proper comparison\n",
        "RawData['Year'] = RawData['Year'].astype(int)\n",
        "RawData['quarter'] = RawData['quarter'].astype(int)\n",
        "\n",
        "# Check if 'Year' and 'quarter' columns exist in SwissGDPS\n",
        "# If they exist, convert them to integers; otherwise, handle the case\n",
        "if 'Year' in SwissGDPS.columns:\n",
        "    SwissGDPS['Year'] = SwissGDPS['Year'].astype(int)\n",
        "if 'quarter' in SwissGDPS.columns:\n",
        "    SwissGDPS['quarter'] = SwissGDPS['quarter'].astype(int)\n",
        "else:\n",
        "    print(\"Warning: 'Year' or 'quarter' column not found in SwissGDPS. Please check your data.\")\n",
        "\n"
      ],
      "metadata": {
        "id": "E8PyzEMydgMo"
      },
      "execution_count": 28,
      "outputs": []
    },
    {
      "cell_type": "code",
      "source": [
        "import pandas as pd\n",
        "\n",
        "# Ensure 'Year' and 'quarter' are integers for proper comparison\n",
        "RawData['Year'] = RawData['Year'].astype(int)\n",
        "RawData['quarter'] = RawData['quarter'].astype(int)\n",
        "\n",
        "# Check if 'Year' and 'quarter' columns still have their original names\n",
        "# If they have been renamed, use the renamed column names\n",
        "year_col = 'Year' if 'Year' in SwissGDPS.columns else SwissGDPS.columns[SwissGDPS.columns.str.contains('Year', case=False)].values[0]\n",
        "quarter_col = 'quarter' if 'quarter' in SwissGDPS.columns else SwissGDPS.columns[SwissGDPS.columns.str.contains('quarter', case=False)].values[0]\n",
        "\n",
        "# Convert 'Year' and 'quarter' columns to integers in SwissGDPS\n",
        "SwissGDPS[year_col] = SwissGDPS[year_col].astype(int)\n",
        "SwissGDPS[quarter_col] = SwissGDPS[quarter_col].astype(int)\n",
        "\n",
        "# Add a new column 'Last Month GDP' to RawData and initialize to NaN\n",
        "RawData['Last Month GDP'] = pd.NA\n",
        "\n",
        "# Iterate through RawData and find matching lagged GDP in SwissGDPS\n",
        "for index, row in RawData.iterrows():\n",
        "    year = row['Year']\n",
        "    quarter = row['quarter']\n",
        "    canton = row['Canton']  # Get the canton from RawData\n",
        "\n",
        "    # Calculate lagged quarter\n",
        "    lagged_quarter = quarter - 1\n",
        "    if lagged_quarter == 0:\n",
        "        lagged_quarter = 4\n",
        "        year -= 1  # Adjust year for Q1 of the previous year\n",
        "\n",
        "    # Find matching lagged GDP in SwissGDPS\n",
        "    matching_gdp = SwissGDPS[\n",
        "        (SwissGDPS[year_col] == year) &\n",
        "        (SwissGDPS[quarter_col] == lagged_quarter)\n",
        "    ]\n",
        "\n",
        "    # Check if a match was found and assign GDP value\n",
        "    if not matching_gdp.empty:\n",
        "        # Access the GDP value for the specific canton\n",
        "        gdp_column = f\"Canton_{canton}\"\n",
        "        if gdp_column in matching_gdp.columns:\n",
        "            gdp_value = matching_gdp[gdp_column].values[0]\n",
        "            RawData.loc[index, 'Last Month GDP'] = gdp_value\n",
        "\n"
      ],
      "metadata": {
        "id": "rq6axkD8hLD6"
      },
      "execution_count": 29,
      "outputs": []
    },
    {
      "cell_type": "markdown",
      "source": [
        "## Result Handling (1)"
      ],
      "metadata": {
        "id": "Udjhm14B83Nh"
      }
    },
    {
      "cell_type": "code",
      "source": [
        "# Splitting the \"Result\" column into \"Home Team Goals Scored\" and \"Away Team Goals Scored, some \"score\" rows contain - as they haven\"t been played yet.\n",
        "RawData[[\"Home Team Goals Scored\", \"Away Team Goals Scored\"]] = RawData[\"Result\"].apply(\n",
        "    lambda x: (x.split(\":\") if \":\" in x else [\"-\", \"-\"])\n",
        ").apply(pd.Series)"
      ],
      "metadata": {
        "id": "UlDrcT4h8-ph"
      },
      "execution_count": 30,
      "outputs": []
    },
    {
      "cell_type": "code",
      "source": [
        "RawData.drop(columns=[\"Result\"], inplace=True)"
      ],
      "metadata": {
        "id": "qdKxpul-9UvB"
      },
      "execution_count": 31,
      "outputs": []
    },
    {
      "cell_type": "code",
      "source": [
        "# Creating a new column \"Match Type\" based on conditions\n",
        "def determine_match_type(value):\n",
        "    if \"AET\" in value:\n",
        "        return \"Extra Time\"\n",
        "    elif \"pens\" in value:\n",
        "        return \"Penalties\"\n",
        "    else:\n",
        "        return \"Normal Time\"\n",
        "\n",
        "# Applying the function to create the \"Match Type\" column\n",
        "RawData[\"Match Type\"] = RawData[\"Away Team Goals Scored\"].apply(determine_match_type)\n",
        "\n",
        "# Optionally, remove any letters like \"AET\" or \"on pens\" from the score columns to keep only the numbers\n",
        "RawData[\"Away Team Goals Scored\"] = RawData[\"Away Team Goals Scored\"].str.extract(r\"(\\d+)\").astype(int)"
      ],
      "metadata": {
        "id": "dueF38oD-XIr"
      },
      "execution_count": 32,
      "outputs": []
    },
    {
      "cell_type": "markdown",
      "source": [
        "## Add Win/Lost"
      ],
      "metadata": {
        "id": "mq96f1nu-uKc"
      }
    },
    {
      "cell_type": "code",
      "source": [
        "# Ensure the goal columns are numeric and handle non-numeric entries (e.g., \"-\")\n",
        "RawData[\"Home Team Goals Scored\"] = pd.to_numeric(RawData[\"Home Team Goals Scored\"], errors=\"coerce\")\n",
        "RawData[\"Away Team Goals Scored\"] = pd.to_numeric(RawData[\"Away Team Goals Scored\"], errors=\"coerce\")\n",
        "\n",
        "# Function to determine the match result for home and away teams\n",
        "def determine_outcome(home_goals, away_goals):\n",
        "    if pd.isna(home_goals) or pd.isna(away_goals):\n",
        "        return \"Not Played\", \"Not Played\"  # Assign \"Not Played\" if either score is missing\n",
        "    elif home_goals > away_goals:\n",
        "        return \"Win\", \"Loss\"\n",
        "    elif home_goals < away_goals:\n",
        "        return \"Loss\", \"Win\"\n",
        "    else:\n",
        "        return \"Draw\", \"Draw\"\n",
        "\n",
        "# Applying the function to create \"Home Team Outcome\" and \"Away Team Outcome\" columns\n",
        "RawData[[\"Home Team Outcome\", \"Away Team Outcome\"]] = RawData.apply(\n",
        "    lambda row: pd.Series(determine_outcome(row[\"Home Team Goals Scored\"], row[\"Away Team Goals Scored\"])),\n",
        "    axis=1\n",
        ")"
      ],
      "metadata": {
        "id": "s4dGQJeC-woa"
      },
      "execution_count": 33,
      "outputs": []
    },
    {
      "cell_type": "markdown",
      "source": [
        "## Result Handling (2) (Manual)"
      ],
      "metadata": {
        "id": "X2eWwzWw9mvE"
      }
    },
    {
      "cell_type": "code",
      "source": [
        "# Match 1: Yverdon Sport vs. FC Zürich (26 October 2021)\n",
        "target_row = RawData[(RawData[\"Weekday\"] == \"Tuesday\") & (RawData[\"Month\"] == 10) & (RawData[\"Year\"] == 2021) &\n",
        "                (RawData[\"Home Team\"] == \"Yverdon Sport\") & (RawData[\"Away Team\"] == \"FC Zürich\")]\n",
        "if not target_row.empty:\n",
        "    index = target_row.index[0]\n",
        "    RawData.loc[index, \"Home Team Goals Scored\"] = 2\n",
        "    RawData.loc[index, \"Away Team Goals Scored\"] = 2\n",
        "\n",
        "# Match 2: Servette FC vs. FC Lugano (5 April 2023)\n",
        "target_row = RawData[(RawData[\"Weekday\"] == \"Wednesday\") & (RawData[\"Month\"] == 4) & (RawData[\"Year\"] == 2023) &\n",
        "                (RawData[\"Home Team\"] == \"Servette FC\") & (RawData[\"Away Team\"] == \"FC Lugano\")]\n",
        "if not target_row.empty:\n",
        "    index = target_row.index[0]\n",
        "    RawData.loc[index, \"Home Team Goals Scored\"] = 2\n",
        "    RawData.loc[index, \"Away Team Goals Scored\"] = 2\n",
        "\n",
        "# Match 3: Servette FC vs. Lausanne-Sport (1 November 2023)\n",
        "target_row = RawData[(RawData[\"Weekday\"] == \"Wednesday\") & (RawData[\"Month\"] == 11) & (RawData[\"Year\"] == 2023) &\n",
        "                (RawData[\"Home Team\"] == \"Servette FC\") & (RawData[\"Away Team\"] == \"Lausanne-Sport\")]\n",
        "if not target_row.empty:\n",
        "    index = target_row.index[0]\n",
        "    RawData.loc[index, \"Home Team Goals Scored\"] = 1\n",
        "    RawData.loc[index, \"Away Team Goals Scored\"] = 0\n",
        "\n",
        "# Match 4: Servette FC vs. FC Lugano (2 June 2024)\n",
        "target_row = RawData[(RawData[\"Weekday\"] == \"Sunday\") & (RawData[\"Month\"] == 6) & (RawData[\"Year\"] == 2024) &\n",
        "                (RawData[\"Home Team\"] == \"Servette FC\") & (RawData[\"Away Team\"] == \"FC Lugano\")]\n",
        "if not target_row.empty:\n",
        "    index = target_row.index[0]\n",
        "    RawData.loc[index, \"Home Team Goals Scored\"] = 0\n",
        "    RawData.loc[index, \"Away Team Goals Scored\"] = 0\n",
        "\n",
        "# Match 5: FC Lugano vs. FC Luzern (21 April 2022)\n",
        "target_row = RawData[(RawData[\"Weekday\"] == \"Thursday\") & (RawData[\"Month\"] == 4) & (RawData[\"Year\"] == 2022) &\n",
        "                (RawData[\"Home Team\"] == \"FC Lugano\") & (RawData[\"Away Team\"] == \"FC Luzern\")]\n",
        "if not target_row.empty:\n",
        "    index = target_row.index[0]\n",
        "    RawData.loc[index, \"Home Team Goals Scored\"] = 2\n",
        "    RawData.loc[index, \"Away Team Goals Scored\"] = 2\n",
        "\n",
        "# Match 6: FC Basel vs. FC Lugano (28 February 2024)\n",
        "target_row = RawData[(RawData[\"Weekday\"] == \"Wednesday\") & (RawData[\"Month\"] == 2) & (RawData[\"Year\"] == 2024) &\n",
        "                (RawData[\"Home Team\"] == \"FC Basel\") & (RawData[\"Away Team\"] == \"FC Lugano\")]\n",
        "if not target_row.empty:\n",
        "    index = target_row.index[0]\n",
        "    RawData.loc[index, \"Home Team Goals Scored\"] = 1\n",
        "    RawData.loc[index, \"Away Team Goals Scored\"] = 1\n",
        "\n",
        "# Match 7: FC Basel vs. Bröndby IF (11 August 2022)\n",
        "target_row = RawData[(RawData[\"Weekday\"] == \"Thursday\") & (RawData[\"Month\"] == 8) & (RawData[\"Year\"] == 2022) &\n",
        "                (RawData[\"Home Team\"] == \"FC Basel\") & (RawData[\"Away Team\"] == \"Bröndby IF\")]\n",
        "if not target_row.empty:\n",
        "    index = target_row.index[0]\n",
        "    RawData.loc[index, \"Home Team Goals Scored\"] = 2\n",
        "    RawData.loc[index, \"Away Team Goals Scored\"] = 1"
      ],
      "metadata": {
        "id": "-lOKEXEcFPSb"
      },
      "execution_count": 34,
      "outputs": []
    },
    {
      "cell_type": "markdown",
      "source": [
        "## Add Wins/Goals Scored/Goals conceded"
      ],
      "metadata": {
        "id": "E592-fnr4myh"
      }
    },
    {
      "cell_type": "code",
      "source": [
        "# Parse the 'Date' column to extract Year, Month, and Day\n",
        "RawData['Date'] = pd.to_datetime(RawData['Date'], format='%m-%d-%Y', errors='coerce')  # Convert to datetime format, handle multiple formats\n",
        "\n",
        "# Extract Year, Month, and Day\n",
        "RawData['Year'] = RawData['Date'].dt.year\n",
        "RawData['Month'] = RawData['Date'].dt.month\n",
        "RawData['Day'] = RawData['Date'].dt.day\n",
        "\n",
        "# Sort by Year, Month, and Day\n",
        "RawData = RawData.sort_values(by=['Year', 'Month', 'Day']).reset_index(drop=True)\n",
        "\n",
        "# Create a temporary column to track wins for rolling calculations\n",
        "RawData['Win'] = (RawData['Home Team Outcome'] == 'Win').astype(int)\n",
        "\n",
        "# Rolling calculations for the last 5 games for each team\n",
        "RawData['Goals Scored in Last 5 Games'] = RawData.groupby('Home Team')['Home Team Goals Scored'].rolling(window=5, min_periods=1).sum().shift(1).reset_index(level=0, drop=True)\n",
        "RawData['Goals Conceded in Last 5 Games'] = RawData.groupby('Home Team')['Away Team Goals Scored'].rolling(window=5, min_periods=1).sum().shift(1).reset_index(level=0, drop=True)\n",
        "RawData['Number of Wins in Last 5 Games'] = RawData.groupby('Home Team')['Win'].rolling(window=5, min_periods=1).sum().shift(1).reset_index(level=0, drop=True)\n",
        "\n",
        "# Manually correct the first 5 games for each team using provided historical data\n",
        "historical_data = {\n",
        "    'FC Zürich': {'Goals Scored': [1, 0, 3, 1, 0], 'Goals Conceded': [1, 3, 0, 1, 1], 'Wins': [0, 0, 1, 0, 0]},\n",
        "    'Grasshopper Club Zürich': {'Goals Scored': [3, 0, 0, 0, 1], 'Goals Conceded': [3, 3, 4, 6, 3], 'Wins': [0, 0, 0, 0, 0]},\n",
        "    'FC Lugano': {'Goals Scored': [3, 1, 1, 1, 0], 'Goals Conceded': [3, 0, 0, 3, 0], 'Wins': [0, 1, 1, 0, 0]},\n",
        "    'FC Luzern': {'Goals Scored': [0, 3, 4, 0, 0], 'Goals Conceded': [1, 0, 0, 1, 0], 'Wins': [0, 1, 1, 0, 0]},\n",
        "    'FC Sion': {'Goals Scored': [0, 3, 0, 1, 0], 'Goals Conceded': [4, 0, 1, 1, 1], 'Wins': [0, 1, 0, 1, 0]},\n",
        "    'Servette FC': {'Goals Scored': [0, 2, 3, 1, 5], 'Goals Conceded': [1, 5, 1, 1, 1], 'Wins': [0, 0, 1, 0, 1]},\n",
        "    'BSC Young Boys': {'Goals Scored': [4, 6, 1, 1, 2], 'Goals Conceded': [0, 1, 0, 0, 0], 'Wins': [1, 1, 1, 1, 1]},\n",
        "    'FC St. Gallen': {'Goals Scored': [1, 2, 1, 0, 0], 'Goals Conceded': [1, 3, 0, 1, 2], 'Wins': [0, 0, 1, 0, 0]},\n",
        "    'FC Basel': {'Goals Scored': [4, 3, 1, 0, 3], 'Goals Conceded': [1, 2, 0, 1, 1], 'Wins': [1, 1, 1, 0, 1]},\n",
        "    'FC Winterthur': {'Goals Scored': [1, 1, 1, 1, 1], 'Goals Conceded': [1, 1, 1, 1, 1], 'Wins': [0, 0, 0, 0, 0]},\n",
        "    'Lausanne-Sport': {'Goals Scored': [1, 1, 1, 1, 1], 'Goals Conceded': [1, 1, 1, 1, 1], 'Wins': [0, 0, 0, 0, 0]},\n",
        "    'Yverdon Sport': {'Goals Scored': [1, 2, 2, 1, 3], 'Goals Conceded': [1, 1, 0, 1, 0], 'Wins': [0, 1, 1, 0, 1]},\n",
        "}\n",
        "\n",
        "for team, data in historical_data.items():\n",
        "    mask = (RawData['Home Team'] == team) & (RawData.index < 5)\n",
        "    RawData.loc[mask, 'Goals Scored in Last 5 Games'] = sum(data['Goals Scored'])\n",
        "    RawData.loc[mask, 'Goals Conceded in Last 5 Games'] = sum(data['Goals Conceded'])\n",
        "    RawData.loc[mask, 'Number of Wins in Last 5 Games'] = sum(data['Wins'])\n",
        "\n",
        "# Replace NaT and NaN values with 0 for the first few rows where there isn't enough data\n",
        "RawData.fillna(0, inplace=True)\n",
        "\n",
        "# Drop the temporary 'Win' column as it's no longer needed\n",
        "RawData.drop(columns=['Win'], inplace=True)"
      ],
      "metadata": {
        "id": "buUf2AVv6G-7",
        "colab": {
          "base_uri": "https://localhost:8080/"
        },
        "outputId": "de0f9151-0298-4c7f-eeef-134963c8c9e4"
      },
      "execution_count": 35,
      "outputs": [
        {
          "output_type": "stream",
          "name": "stderr",
          "text": [
            "<ipython-input-35-4c9ee9bf909e>:43: FutureWarning: Downcasting object dtype arrays on .fillna, .ffill, .bfill is deprecated and will change in a future version. Call result.infer_objects(copy=False) instead. To opt-in to the future behavior, set `pd.set_option('future.no_silent_downcasting', True)`\n",
            "  RawData.fillna(0, inplace=True)\n"
          ]
        }
      ]
    },
    {
      "cell_type": "markdown",
      "source": [
        "## Drop date and old date"
      ],
      "metadata": {
        "id": "uEszsbar7PcX"
      }
    },
    {
      "cell_type": "code",
      "source": [
        "RawData = RawData.drop(columns=['old_date','date'])"
      ],
      "metadata": {
        "id": "a4Z3MKV97TnQ"
      },
      "execution_count": 36,
      "outputs": []
    },
    {
      "cell_type": "markdown",
      "source": [
        "## Categorization of some columns"
      ],
      "metadata": {
        "id": "khslcyzkcZ_d"
      }
    },
    {
      "cell_type": "markdown",
      "source": [
        "In the following, certain Features will be categorized (Ranking, Weather, Time, Competition, Day of the Week, Derby). This is done to make it easier for our models to capture the importance of different features"
      ],
      "metadata": {
        "id": "SF4dwXhCrZUM"
      }
    },
    {
      "cell_type": "code",
      "source": [
        "RawData['Ranking Home Team'] = pd.to_numeric(RawData['Ranking Home Team'], errors='coerce').fillna(0).astype(int)\n",
        "RawData['Ranking Away Team'] = pd.to_numeric(RawData['Ranking Away Team'], errors='coerce').fillna(0).astype(int)\n"
      ],
      "metadata": {
        "id": "LzEULiD4fPk9"
      },
      "execution_count": 37,
      "outputs": []
    },
    {
      "cell_type": "code",
      "source": [
        "#Categorize The ranking into different categories\n",
        "def categorize_opposing_team(ranking):\n",
        "    if ranking in range(1, 4):\n",
        "        return \"Top ranked\"\n",
        "    elif ranking in range(4, 9):\n",
        "        return \"Medium ranked\"\n",
        "    elif ranking in range(9, 13):\n",
        "        return \"Bottom ranked\"\n",
        "    elif ranking == 0:\n",
        "        return \"Not ranked\"\n",
        "    else:\n",
        "        return \"Unknown\"  # Just in case of unexpected values\n",
        "\n",
        "RawData['Opposing team Category'] = RawData['Ranking Away Team'].apply(categorize_opposing_team)\n",
        "RawData['Home team Category'] = RawData['Ranking Home Team'].apply(categorize_opposing_team)"
      ],
      "metadata": {
        "id": "ucooMaCacZGi"
      },
      "execution_count": 38,
      "outputs": []
    },
    {
      "cell_type": "code",
      "source": [
        "def categorize_game_day(weekday):\n",
        "    if weekday in ['Monday', 'Tuesday', 'Wednesday', 'Thursday', 'Friday']:\n",
        "        return \"Weekday\"\n",
        "    elif weekday in ['Saturday', 'Sunday']:\n",
        "        return \"Weekend\"\n",
        "    else:\n",
        "        return \"Unknown\"  # In case of unexpected values\n",
        "\n",
        "# Applying the categorization function to create the new feature\n",
        "RawData['Game day'] = RawData['Weekday'].apply(categorize_game_day)"
      ],
      "metadata": {
        "id": "AQZt3P_Af_bn"
      },
      "execution_count": 39,
      "outputs": []
    },
    {
      "cell_type": "code",
      "source": [
        "# Ensure the Time column is in string format with \"hh:mm\"\n",
        "RawData['Time'] = RawData['Time'].astype(str)\n",
        "\n",
        "# Creating the new feature 'Time slot' based on the existing feature 'Time'\n",
        "def categorize_time_slot(time_str):\n",
        "    try:\n",
        "        # Extract hour from the time string (assumes format \"hh:mm\")\n",
        "        hour = int(time_str.split(':')[0])\n",
        "        if hour < 18:\n",
        "            return \"Afternoon\"\n",
        "        elif 18 <= hour < 20:\n",
        "            return \"Evening\"\n",
        "        else:\n",
        "            return \"Night\"\n",
        "    except:\n",
        "        return \"Unknown\"  # In case of unexpected or incorrect values\n",
        "\n",
        "# Applying the categorization function to create the new feature\n",
        "RawData['Time slot'] = RawData['Time'].apply(categorize_time_slot)\n",
        "\n",
        "# Display the updated DataFrame\n",
        "print(RawData.head())"
      ],
      "metadata": {
        "colab": {
          "base_uri": "https://localhost:8080/"
        },
        "id": "Mvh_YnKDgrIQ",
        "outputId": "c6af1e49-e13f-4118-ca11-c8ad3a9575f1"
      },
      "execution_count": 40,
      "outputs": [
        {
          "output_type": "stream",
          "name": "stdout",
          "text": [
            "        Competition Matchday  Time       Home Team  Ranking Home Team  \\\n",
            "0      Super League        1  20.0         FC Sion                  8   \n",
            "1      Super League        1  19.0   FC St. Gallen                  2   \n",
            "2  Challenge League        1  17.0   FC Winterthur                  4   \n",
            "3      Super League        1  16.0       FC Zürich                  7   \n",
            "4      Super League        1  16.0  BSC Young Boys                  1   \n",
            "\n",
            "     Away Team  Ranking Away Team  Attendance                Weather  \\\n",
            "0     FC Basel                  3       11000  Clear or mostly clear   \n",
            "1    FC Luzern                  6       11672          Partly cloudy   \n",
            "2     FC Aarau                  8        3800          Partly cloudy   \n",
            "3    FC Lugano                  5        9430  Clear or mostly clear   \n",
            "4  Servette FC                  4       25110  Clear or mostly clear   \n",
            "\n",
            "   Temperature (°C)  ... Home Team Outcome Away Team Outcome  Day  \\\n",
            "0              24.6  ...              Loss               Win   19   \n",
            "1              24.0  ...              Loss               Win   20   \n",
            "2              29.4  ...              Draw              Draw   20   \n",
            "3              26.8  ...              Loss               Win   21   \n",
            "4              26.0  ...              Draw              Draw   21   \n",
            "\n",
            "   Goals Scored in Last 5 Games Goals Conceded in Last 5 Games  \\\n",
            "0                           4.0                            7.0   \n",
            "1                           4.0                            7.0   \n",
            "2                           5.0                            5.0   \n",
            "3                           5.0                            6.0   \n",
            "4                          14.0                            1.0   \n",
            "\n",
            "   Number of Wins in Last 5 Games Opposing team Category  Home team Category  \\\n",
            "0                             2.0             Top ranked       Medium ranked   \n",
            "1                             1.0          Medium ranked          Top ranked   \n",
            "2                             0.0          Medium ranked       Medium ranked   \n",
            "3                             1.0          Medium ranked       Medium ranked   \n",
            "4                             5.0          Medium ranked          Top ranked   \n",
            "\n",
            "  Game day Time slot  \n",
            "0  Weekday   Unknown  \n",
            "1  Weekend   Unknown  \n",
            "2  Weekend   Unknown  \n",
            "3  Weekend   Unknown  \n",
            "4  Weekend   Unknown  \n",
            "\n",
            "[5 rows x 46 columns]\n"
          ]
        }
      ]
    },
    {
      "cell_type": "code",
      "source": [
        "unique_weather_categories = RawData['Weather'].unique()\n",
        "\n",
        "# Display the unique weather categories\n",
        "print(unique_weather_categories)"
      ],
      "metadata": {
        "colab": {
          "base_uri": "https://localhost:8080/"
        },
        "id": "DGD2vXtJkmkv",
        "outputId": "621892d6-7ce6-44aa-f750-fad994e497b0"
      },
      "execution_count": 41,
      "outputs": [
        {
          "output_type": "stream",
          "name": "stdout",
          "text": [
            "['Clear or mostly clear' 'Partly cloudy' 'Rainy' 'Drizzle' 'Snowy' 0]\n"
          ]
        }
      ]
    },
    {
      "cell_type": "code",
      "source": [
        "def categorize_weather(weather):\n",
        "    if weather in ['Clear or mostly clear', 'Partly cloudy']:\n",
        "        return \"Good\"\n",
        "    elif weather in ['Rainy', 'Drizzle', 'Snowy']:\n",
        "        return \"Bad\"\n",
        "    else:\n",
        "        return \"Unknown\"  # In case of unexpected or incorrect values\n",
        "\n",
        "# Applying the categorization function to create the new feature\n",
        "RawData['Weather GoodBad'] = RawData['Weather'].apply(categorize_weather)\n"
      ],
      "metadata": {
        "id": "i4KpYUe2lYqZ"
      },
      "execution_count": 42,
      "outputs": []
    },
    {
      "cell_type": "code",
      "source": [
        "def is_derby_boolean(home_team, away_team):\n",
        "    # Defining all the derbies\n",
        "    derbies = {\n",
        "        'FC Zürich': ['Grasshopper Club Zürich'],\n",
        "        'Grasshopper Club Zürich': ['FC Zürich'],\n",
        "        'BSC Young Boys': ['FC Thun', 'FC Basel'],\n",
        "        'FC Basel': ['Grasshopper Club Zürich', 'BSC Young Boys', 'FC Zürich'],\n",
        "        'FC Luzern': ['SC Kriens'],\n",
        "        'FC St. Gallen': ['FC Wil', 'FC Luzern'],\n",
        "        'Servette FC': ['FC Lausanne-Sport', 'FC Sion'],\n",
        "        'FC Lausanne-Sport': ['Servette FC', 'Yverdon Sport FC'],\n",
        "        'FC Sion': ['Servette FC', 'FC Lausanne-Sport'],\n",
        "        'Yverdon Sport FC': ['FC Lausanne-Sport'],\n",
        "        'FC Winterthur': ['Grasshopper Club Zürich', 'FC Zürich'],\n",
        "        'FC Lugano': ['AC Bellinzona', 'FC Chiasso']\n",
        "    }\n",
        "\n",
        "    # Check if the home and away team form a derby\n",
        "    if away_team in derbies.get(home_team, []):\n",
        "        return 1\n",
        "    elif home_team in derbies.get(away_team, []):\n",
        "        return 1\n",
        "    else:\n",
        "        return 0\n",
        "\n",
        "# Applying the categorization function to create the new feature\n",
        "RawData['Derby'] = RawData.apply(lambda row: is_derby_boolean(row['Home Team'], row['Away Team']), axis=1)"
      ],
      "metadata": {
        "id": "tTXlnFU8tiLe"
      },
      "execution_count": 43,
      "outputs": []
    },
    {
      "cell_type": "code",
      "source": [
        "# Manual Checking of dataset\n",
        "# Save the DataFrame to a CSV file\n",
        "output_csv = \"football_results.csv\"\n",
        "RawData.to_csv(output_csv, index=False)\n",
        "\n",
        "from google.colab import files\n",
        "\n",
        "# Download the CSV file\n",
        "# This CSV File is then further used in the notebook for the Models\n",
        "files.download(output_csv)"
      ],
      "metadata": {
        "colab": {
          "base_uri": "https://localhost:8080/",
          "height": 17
        },
        "id": "r5RIt0Hhhlv-",
        "outputId": "1d5d7b32-63ee-4e6e-c423-513503f2f1a9"
      },
      "execution_count": 44,
      "outputs": [
        {
          "output_type": "display_data",
          "data": {
            "text/plain": [
              "<IPython.core.display.Javascript object>"
            ],
            "application/javascript": [
              "\n",
              "    async function download(id, filename, size) {\n",
              "      if (!google.colab.kernel.accessAllowed) {\n",
              "        return;\n",
              "      }\n",
              "      const div = document.createElement('div');\n",
              "      const label = document.createElement('label');\n",
              "      label.textContent = `Downloading \"${filename}\": `;\n",
              "      div.appendChild(label);\n",
              "      const progress = document.createElement('progress');\n",
              "      progress.max = size;\n",
              "      div.appendChild(progress);\n",
              "      document.body.appendChild(div);\n",
              "\n",
              "      const buffers = [];\n",
              "      let downloaded = 0;\n",
              "\n",
              "      const channel = await google.colab.kernel.comms.open(id);\n",
              "      // Send a message to notify the kernel that we're ready.\n",
              "      channel.send({})\n",
              "\n",
              "      for await (const message of channel.messages) {\n",
              "        // Send a message to notify the kernel that we're ready.\n",
              "        channel.send({})\n",
              "        if (message.buffers) {\n",
              "          for (const buffer of message.buffers) {\n",
              "            buffers.push(buffer);\n",
              "            downloaded += buffer.byteLength;\n",
              "            progress.value = downloaded;\n",
              "          }\n",
              "        }\n",
              "      }\n",
              "      const blob = new Blob(buffers, {type: 'application/binary'});\n",
              "      const a = document.createElement('a');\n",
              "      a.href = window.URL.createObjectURL(blob);\n",
              "      a.download = filename;\n",
              "      div.appendChild(a);\n",
              "      a.click();\n",
              "      div.remove();\n",
              "    }\n",
              "  "
            ]
          },
          "metadata": {}
        },
        {
          "output_type": "display_data",
          "data": {
            "text/plain": [
              "<IPython.core.display.Javascript object>"
            ],
            "application/javascript": [
              "download(\"download_f8a734ec-9aef-4b57-98b8-8a5b2be02ddf\", \"football_results.csv\", 326628)"
            ]
          },
          "metadata": {}
        }
      ]
    }
  ]
}